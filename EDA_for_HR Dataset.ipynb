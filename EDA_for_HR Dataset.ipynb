{
 "cells": [
  {
   "cell_type": "markdown",
   "id": "325ed75f",
   "metadata": {},
   "source": [
    "#EDA for HR rectruitment data"
   ]
  },
  {
   "cell_type": "markdown",
   "id": "ef5dc9c4",
   "metadata": {},
   "source": [
    "#importing the modules"
   ]
  },
  {
   "cell_type": "code",
   "execution_count": 1,
   "id": "2ca38d03",
   "metadata": {},
   "outputs": [],
   "source": [
    "import pandas as pd\n",
    "import numpy as np "
   ]
  },
  {
   "cell_type": "code",
   "execution_count": 2,
   "id": "3ccfaf81",
   "metadata": {},
   "outputs": [],
   "source": [
    "df_hr_imputed = pd.read_csv(\"Dataset/hr_imputed.csv\")"
   ]
  },
  {
   "cell_type": "markdown",
   "id": "cb76d289",
   "metadata": {},
   "source": [
    "#Displaying the first five records to show the data"
   ]
  },
  {
   "cell_type": "code",
   "execution_count": 3,
   "id": "3b005c31",
   "metadata": {},
   "outputs": [
    {
     "data": {
      "text/html": [
       "<div>\n",
       "<style scoped>\n",
       "    .dataframe tbody tr th:only-of-type {\n",
       "        vertical-align: middle;\n",
       "    }\n",
       "\n",
       "    .dataframe tbody tr th {\n",
       "        vertical-align: top;\n",
       "    }\n",
       "\n",
       "    .dataframe thead th {\n",
       "        text-align: right;\n",
       "    }\n",
       "</style>\n",
       "<table border=\"1\" class=\"dataframe\">\n",
       "  <thead>\n",
       "    <tr style=\"text-align: right;\">\n",
       "      <th></th>\n",
       "      <th>city</th>\n",
       "      <th>city_development_index</th>\n",
       "      <th>gender</th>\n",
       "      <th>relevent_experience</th>\n",
       "      <th>enrolled_university</th>\n",
       "      <th>education_level</th>\n",
       "      <th>major_discipline</th>\n",
       "      <th>experience</th>\n",
       "      <th>company_size</th>\n",
       "      <th>company_type</th>\n",
       "      <th>last_new_job</th>\n",
       "      <th>training_hours</th>\n",
       "      <th>target</th>\n",
       "    </tr>\n",
       "  </thead>\n",
       "  <tbody>\n",
       "    <tr>\n",
       "      <th>0</th>\n",
       "      <td>city_103</td>\n",
       "      <td>0.920</td>\n",
       "      <td>Male</td>\n",
       "      <td>Has relevent experience</td>\n",
       "      <td>no_enrollment</td>\n",
       "      <td>Graduate</td>\n",
       "      <td>STEM</td>\n",
       "      <td>21</td>\n",
       "      <td>Undefined</td>\n",
       "      <td>Pvt Ltd</td>\n",
       "      <td>1</td>\n",
       "      <td>36</td>\n",
       "      <td>1.0</td>\n",
       "    </tr>\n",
       "    <tr>\n",
       "      <th>1</th>\n",
       "      <td>city_40</td>\n",
       "      <td>0.776</td>\n",
       "      <td>Male</td>\n",
       "      <td>No relevent experience</td>\n",
       "      <td>no_enrollment</td>\n",
       "      <td>Graduate</td>\n",
       "      <td>STEM</td>\n",
       "      <td>15</td>\n",
       "      <td>Small &amp; Medium-org.</td>\n",
       "      <td>Pvt Ltd</td>\n",
       "      <td>5</td>\n",
       "      <td>47</td>\n",
       "      <td>0.0</td>\n",
       "    </tr>\n",
       "    <tr>\n",
       "      <th>2</th>\n",
       "      <td>city_21</td>\n",
       "      <td>0.624</td>\n",
       "      <td>Undefined</td>\n",
       "      <td>No relevent experience</td>\n",
       "      <td>Full time course</td>\n",
       "      <td>Graduate</td>\n",
       "      <td>STEM</td>\n",
       "      <td>5</td>\n",
       "      <td>Undefined</td>\n",
       "      <td>Pvt Ltd</td>\n",
       "      <td>0</td>\n",
       "      <td>83</td>\n",
       "      <td>0.0</td>\n",
       "    </tr>\n",
       "    <tr>\n",
       "      <th>3</th>\n",
       "      <td>city_115</td>\n",
       "      <td>0.789</td>\n",
       "      <td>Undefined</td>\n",
       "      <td>No relevent experience</td>\n",
       "      <td>no_enrollment</td>\n",
       "      <td>Graduate</td>\n",
       "      <td>Business Degree</td>\n",
       "      <td>0</td>\n",
       "      <td>Undefined</td>\n",
       "      <td>Pvt Ltd</td>\n",
       "      <td>0</td>\n",
       "      <td>52</td>\n",
       "      <td>1.0</td>\n",
       "    </tr>\n",
       "    <tr>\n",
       "      <th>4</th>\n",
       "      <td>city_162</td>\n",
       "      <td>0.767</td>\n",
       "      <td>Male</td>\n",
       "      <td>Has relevent experience</td>\n",
       "      <td>no_enrollment</td>\n",
       "      <td>Masters</td>\n",
       "      <td>STEM</td>\n",
       "      <td>21</td>\n",
       "      <td>Small &amp; Medium-org.</td>\n",
       "      <td>Funded Startup</td>\n",
       "      <td>4</td>\n",
       "      <td>8</td>\n",
       "      <td>0.0</td>\n",
       "    </tr>\n",
       "  </tbody>\n",
       "</table>\n",
       "</div>"
      ],
      "text/plain": [
       "       city  city_development_index     gender      relevent_experience  \\\n",
       "0  city_103                   0.920       Male  Has relevent experience   \n",
       "1   city_40                   0.776       Male   No relevent experience   \n",
       "2   city_21                   0.624  Undefined   No relevent experience   \n",
       "3  city_115                   0.789  Undefined   No relevent experience   \n",
       "4  city_162                   0.767       Male  Has relevent experience   \n",
       "\n",
       "  enrolled_university education_level major_discipline  experience  \\\n",
       "0       no_enrollment        Graduate             STEM          21   \n",
       "1       no_enrollment        Graduate             STEM          15   \n",
       "2    Full time course        Graduate             STEM           5   \n",
       "3       no_enrollment        Graduate  Business Degree           0   \n",
       "4       no_enrollment         Masters             STEM          21   \n",
       "\n",
       "          company_size    company_type  last_new_job  training_hours  target  \n",
       "0            Undefined         Pvt Ltd             1              36     1.0  \n",
       "1  Small & Medium-org.         Pvt Ltd             5              47     0.0  \n",
       "2            Undefined         Pvt Ltd             0              83     0.0  \n",
       "3            Undefined         Pvt Ltd             0              52     1.0  \n",
       "4  Small & Medium-org.  Funded Startup             4               8     0.0  "
      ]
     },
     "execution_count": 3,
     "metadata": {},
     "output_type": "execute_result"
    }
   ],
   "source": [
    "df_hr_imputed.head()"
   ]
  },
  {
   "cell_type": "code",
   "execution_count": 4,
   "id": "60493bfa",
   "metadata": {},
   "outputs": [],
   "source": [
    "#Display of the information of the columns"
   ]
  },
  {
   "cell_type": "code",
   "execution_count": 5,
   "id": "7c3b9d3c",
   "metadata": {},
   "outputs": [
    {
     "name": "stdout",
     "output_type": "stream",
     "text": [
      "<class 'pandas.core.frame.DataFrame'>\n",
      "RangeIndex: 19158 entries, 0 to 19157\n",
      "Data columns (total 13 columns):\n",
      " #   Column                  Non-Null Count  Dtype  \n",
      "---  ------                  --------------  -----  \n",
      " 0   city                    19158 non-null  object \n",
      " 1   city_development_index  19158 non-null  float64\n",
      " 2   gender                  19158 non-null  object \n",
      " 3   relevent_experience     19158 non-null  object \n",
      " 4   enrolled_university     19158 non-null  object \n",
      " 5   education_level         19158 non-null  object \n",
      " 6   major_discipline        19158 non-null  object \n",
      " 7   experience              19158 non-null  int64  \n",
      " 8   company_size            19158 non-null  object \n",
      " 9   company_type            19158 non-null  object \n",
      " 10  last_new_job            19158 non-null  int64  \n",
      " 11  training_hours          19158 non-null  int64  \n",
      " 12  target                  19158 non-null  float64\n",
      "dtypes: float64(2), int64(3), object(8)\n",
      "memory usage: 1.9+ MB\n"
     ]
    }
   ],
   "source": [
    "df_hr_imputed.info()"
   ]
  },
  {
   "cell_type": "markdown",
   "id": "e6c422d3",
   "metadata": {},
   "source": [
    "Observations : \n",
    "    1. The columns city, gender, relevant_experience, enrolled_university, education_level, major_discipline, company_size, company_type are of oject in nature.\n",
    "    2. city_development_index and target are of decimal numbers. \n",
    "    3. last_new_job and training_hours are of integer data type.\n",
    "Hence, No type conversion is needed for these columns."
   ]
  },
  {
   "cell_type": "code",
   "execution_count": null,
   "id": "7b09912f",
   "metadata": {},
   "outputs": [],
   "source": [
    "# To display the unique values in each column for categorizing the columns"
   ]
  },
  {
   "cell_type": "code",
   "execution_count": 7,
   "id": "0d8edcb4",
   "metadata": {},
   "outputs": [],
   "source": [
    "df_hr_imputed_columns = {}\n",
    "for i in df_hr_imputed.columns:\n",
    "    df_hr_imputed_columns[i] = [df_hr_imputed[i].unique(),df_hr_imputed[i].dtype]"
   ]
  },
  {
   "cell_type": "code",
   "execution_count": 8,
   "id": "34878cce",
   "metadata": {},
   "outputs": [
    {
     "data": {
      "text/plain": [
       "{'city': [array(['city_103', 'city_40', 'city_21', 'city_115', 'city_162',\n",
       "         'city_176', 'city_160', 'city_46', 'city_61', 'city_114',\n",
       "         'city_13', 'city_159', 'city_102', 'city_67', 'city_100',\n",
       "         'city_16', 'city_71', 'city_104', 'city_64', 'city_101', 'city_83',\n",
       "         'city_105', 'city_73', 'city_75', 'city_41', 'city_11', 'city_93',\n",
       "         'city_90', 'city_36', 'city_20', 'city_57', 'city_152', 'city_19',\n",
       "         'city_65', 'city_74', 'city_173', 'city_136', 'city_98', 'city_97',\n",
       "         'city_50', 'city_138', 'city_82', 'city_157', 'city_89',\n",
       "         'city_150', 'city_70', 'city_175', 'city_94', 'city_28', 'city_59',\n",
       "         'city_165', 'city_145', 'city_142', 'city_26', 'city_12',\n",
       "         'city_37', 'city_43', 'city_116', 'city_23', 'city_99', 'city_149',\n",
       "         'city_10', 'city_45', 'city_80', 'city_128', 'city_158',\n",
       "         'city_123', 'city_7', 'city_72', 'city_106', 'city_143', 'city_78',\n",
       "         'city_109', 'city_24', 'city_134', 'city_48', 'city_144',\n",
       "         'city_91', 'city_146', 'city_133', 'city_126', 'city_118',\n",
       "         'city_9', 'city_167', 'city_27', 'city_84', 'city_54', 'city_39',\n",
       "         'city_79', 'city_76', 'city_77', 'city_81', 'city_131', 'city_44',\n",
       "         'city_117', 'city_155', 'city_33', 'city_141', 'city_127',\n",
       "         'city_62', 'city_53', 'city_25', 'city_2', 'city_69', 'city_120',\n",
       "         'city_111', 'city_30', 'city_1', 'city_140', 'city_179', 'city_55',\n",
       "         'city_14', 'city_42', 'city_107', 'city_18', 'city_139',\n",
       "         'city_180', 'city_166', 'city_121', 'city_129', 'city_8',\n",
       "         'city_31', 'city_171'], dtype=object),\n",
       "  dtype('O')],\n",
       " 'city_development_index': [array([0.92 , 0.776, 0.624, 0.789, 0.767, 0.764, 0.762, 0.913, 0.926,\n",
       "         0.827, 0.843, 0.804, 0.855, 0.887, 0.91 , 0.884, 0.924, 0.666,\n",
       "         0.558, 0.923, 0.794, 0.754, 0.939, 0.55 , 0.865, 0.698, 0.893,\n",
       "         0.796, 0.866, 0.682, 0.802, 0.579, 0.878, 0.897, 0.949, 0.925,\n",
       "         0.896, 0.836, 0.693, 0.769, 0.775, 0.903, 0.555, 0.727, 0.64 ,\n",
       "         0.516, 0.743, 0.899, 0.915, 0.689, 0.895, 0.89 , 0.847, 0.527,\n",
       "         0.766, 0.738, 0.647, 0.795, 0.74 , 0.701, 0.493, 0.84 , 0.691,\n",
       "         0.735, 0.742, 0.479, 0.722, 0.921, 0.848, 0.856, 0.898, 0.83 ,\n",
       "         0.73 , 0.68 , 0.725, 0.556, 0.448, 0.763, 0.745, 0.645, 0.788,\n",
       "         0.78 , 0.512, 0.739, 0.563, 0.518, 0.824, 0.487, 0.649, 0.781,\n",
       "         0.625, 0.807, 0.664]),\n",
       "  dtype('float64')],\n",
       " 'gender': [array(['Male', 'Undefined', 'Female', 'Other'], dtype=object),\n",
       "  dtype('O')],\n",
       " 'relevent_experience': [array(['Has relevent experience', 'No relevent experience'], dtype=object),\n",
       "  dtype('O')],\n",
       " 'enrolled_university': [array(['no_enrollment', 'Full time course', 'Part time course'],\n",
       "        dtype=object),\n",
       "  dtype('O')],\n",
       " 'education_level': [array(['Graduate', 'Masters', 'High School', 'Phd', 'Primary School'],\n",
       "        dtype=object),\n",
       "  dtype('O')],\n",
       " 'major_discipline': [array(['STEM', 'Business Degree', 'Arts', 'Humanities', 'No Major',\n",
       "         'Other'], dtype=object),\n",
       "  dtype('O')],\n",
       " 'experience': [array([21, 15,  5,  0, 11, 13,  7, 17,  2, 16,  1,  4, 10, 14, 18, 19, 12,\n",
       "          3,  6,  9,  8, 20], dtype=int64),\n",
       "  dtype('int64')],\n",
       " 'company_size': [array(['Undefined', 'Small & Medium-org.', 'Large-org.'], dtype=object),\n",
       "  dtype('O')],\n",
       " 'company_type': [array(['Pvt Ltd', 'Funded Startup', 'Early Stage Startup', 'Other',\n",
       "         'Public Sector', 'NGO'], dtype=object),\n",
       "  dtype('O')],\n",
       " 'last_new_job': [array([1, 5, 0, 4, 3, 2], dtype=int64), dtype('int64')],\n",
       " 'training_hours': [array([ 36,  47,  83,  52,   8,  24,  18,  46, 123,  32, 108,  23,  26,\n",
       "         106,   7, 132,  68,  50,  48,  65,  13,  22, 148,  72,  40, 141,\n",
       "          82, 145, 206, 152,  42,  14, 112,  87,  20,  21,  92, 102,  43,\n",
       "          45,  19,  90,  25,  15,  98, 142,  28, 228,  29,  12,  17,  35,\n",
       "           4, 136,  27,  74,  86,  75, 332, 140, 182, 172,  33,  34, 150,\n",
       "         160,   3,   2, 210, 101,  59, 260, 131, 109,  70,  51,  60, 164,\n",
       "         290, 133,  76, 156, 120, 100,  39,  55,  49,   6, 125, 326, 198,\n",
       "          11,  41, 114, 246,  81,  31,  84, 105,  38, 178, 104, 202,  88,\n",
       "         218,  62,  10,  80,  77,  37, 162, 190,  30,  16,   5,  54,  44,\n",
       "         110, 262, 107, 134, 103,  96,  57, 240,  94, 113,  56,  64, 320,\n",
       "           9, 129,  58, 126, 166,  95,  97, 204, 116, 161, 146, 302,  53,\n",
       "         143, 124, 214, 288, 306, 322,  67,  61, 130, 220,  78, 314, 226,\n",
       "         280,  91, 234, 163, 151,  85, 256, 168, 144,  66, 128,  73, 122,\n",
       "         154,  63, 292, 188,  71, 135, 138, 184,  89, 157, 118, 111, 192,\n",
       "         127, 216, 139, 196,  99, 167, 276, 121,  69, 155, 316, 242, 304,\n",
       "         284, 278, 310, 222, 212, 250, 180, 258, 330, 158, 149, 165,  79,\n",
       "         194, 176, 174, 312, 200, 328, 300, 153, 232, 336, 308, 147, 298,\n",
       "         224, 254, 248, 236, 170, 264, 119, 117, 334, 324,   1, 238, 266,\n",
       "         282, 268, 244, 272, 294, 270, 286], dtype=int64),\n",
       "  dtype('int64')],\n",
       " 'target': [array([1., 0.]), dtype('float64')]}"
      ]
     },
     "execution_count": 8,
     "metadata": {},
     "output_type": "execute_result"
    }
   ],
   "source": [
    "df_hr_imputed_columns"
   ]
  },
  {
   "cell_type": "markdown",
   "id": "e80230bf",
   "metadata": {},
   "source": [
    "#Observations : \n",
    " 1. training_hours,target,experience are numeric discrete variable. \n",
    " 2. city_development_index is a continuous numeric variable.\n",
    " 3. city, gender,relevent_experience,enrolled_university,education_level,major_discipline,company_size,company_type are of the qualitative variables."
   ]
  },
  {
   "cell_type": "markdown",
   "id": "fb532656",
   "metadata": {},
   "source": [
    "#Checking for the null values in the columns."
   ]
  },
  {
   "cell_type": "code",
   "execution_count": 10,
   "id": "d378adcc",
   "metadata": {},
   "outputs": [
    {
     "data": {
      "text/plain": [
       "city                      0\n",
       "city_development_index    0\n",
       "gender                    0\n",
       "relevent_experience       0\n",
       "enrolled_university       0\n",
       "education_level           0\n",
       "major_discipline          0\n",
       "experience                0\n",
       "company_size              0\n",
       "company_type              0\n",
       "last_new_job              0\n",
       "training_hours            0\n",
       "target                    0\n",
       "dtype: int64"
      ]
     },
     "execution_count": 10,
     "metadata": {},
     "output_type": "execute_result"
    }
   ],
   "source": [
    "df_hr_imputed.isnull().sum()"
   ]
  },
  {
   "cell_type": "markdown",
   "id": "22e13d2c",
   "metadata": {},
   "source": [
    "#Observation : There are no null values exists in the dataframe."
   ]
  },
  {
   "cell_type": "markdown",
   "id": "3bc2a3ab",
   "metadata": {},
   "source": [
    "#To save the result into a new CSV file"
   ]
  },
  {
   "cell_type": "code",
   "execution_count": 13,
   "id": "b6c634d5",
   "metadata": {},
   "outputs": [],
   "source": [
    "df_hr_imputed.to_csv('Dataset/hr_cleaned.csv',index=False)"
   ]
  },
  {
   "cell_type": "code",
   "execution_count": null,
   "id": "10387b0c",
   "metadata": {},
   "outputs": [],
   "source": []
  }
 ],
 "metadata": {
  "kernelspec": {
   "display_name": "Python 3 (ipykernel)",
   "language": "python",
   "name": "python3"
  },
  "language_info": {
   "codemirror_mode": {
    "name": "ipython",
    "version": 3
   },
   "file_extension": ".py",
   "mimetype": "text/x-python",
   "name": "python",
   "nbconvert_exporter": "python",
   "pygments_lexer": "ipython3",
   "version": "3.9.12"
  }
 },
 "nbformat": 4,
 "nbformat_minor": 5
}
